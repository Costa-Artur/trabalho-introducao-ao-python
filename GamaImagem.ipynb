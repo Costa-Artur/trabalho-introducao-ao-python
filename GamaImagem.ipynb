{
  "nbformat": 4,
  "nbformat_minor": 0,
  "metadata": {
    "colab": {
      "name": "GamaImagem.ipynb",
      "provenance": [],
      "collapsed_sections": []
    },
    "kernelspec": {
      "name": "python3",
      "display_name": "Python 3"
    },
    "language_info": {
      "name": "python"
    }
  },
  "cells": [
    {
      "cell_type": "code",
      "execution_count": null,
      "metadata": {
        "id": "-65rV5i2v3EC"
      },
      "outputs": [],
      "source": [
        "#gamma \n",
        "img_in = cv2.imread('data/Fig0308(a)(fractured_spine).tif',0)\n",
        "\n",
        "c = 2 # 255/(np.log(1 + np.max(img_in)))\n",
        "gamma = 0.1\n",
        "img_out = np.array(c*255*(img_in/255)**gamma, dtype = np.uint8)\n",
        "#img_out = np.array(c*(img_in)**gamma, dtype = np.float32)\n",
        "\n",
        "print(img_out.max())\n",
        "cv2_imshow(img_in)\n",
        "cv2_imshow(img_out)\n",
        "'''\n",
        "cv2.imshow('in', img_in)\n",
        "cv2.waitKey(0)\n",
        "cv2.imshow('out', img_out)\n",
        "cv2.waitKey(0)\n",
        "cv2.destroyAllWindows()\n",
        "'''"
      ]
    }
  ]
}